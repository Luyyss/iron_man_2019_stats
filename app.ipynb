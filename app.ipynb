{
 "cells": [
  {
   "cell_type": "code",
   "execution_count": null,
   "metadata": {},
   "outputs": [],
   "source": [
    "## Objetivos do projeto\n",
    "## 1 - Analisar qual modalidade esportiva faz mais diferença no resultado final\n",
    "## 2 - Percentual de atletas que não completaram a prova\n"
   ]
  },
  {
   "cell_type": "code",
   "execution_count": 1,
   "metadata": {},
   "outputs": [],
   "source": [
    "import pandas as pd"
   ]
  },
  {
   "cell_type": "code",
   "execution_count": 2,
   "metadata": {},
   "outputs": [
    {
     "data": {
      "text/html": [
       "<div>\n",
       "<style scoped>\n",
       "    .dataframe tbody tr th:only-of-type {\n",
       "        vertical-align: middle;\n",
       "    }\n",
       "\n",
       "    .dataframe tbody tr th {\n",
       "        vertical-align: top;\n",
       "    }\n",
       "\n",
       "    .dataframe thead th {\n",
       "        text-align: right;\n",
       "    }\n",
       "</style>\n",
       "<table border=\"1\" class=\"dataframe\">\n",
       "  <thead>\n",
       "    <tr style=\"text-align: right;\">\n",
       "      <th></th>\n",
       "      <th>BIB</th>\n",
       "      <th>Name</th>\n",
       "      <th>Country</th>\n",
       "      <th>Gender</th>\n",
       "      <th>Division</th>\n",
       "      <th>Swim</th>\n",
       "      <th>Bike</th>\n",
       "      <th>Run</th>\n",
       "      <th>Overall</th>\n",
       "      <th>Division Rank</th>\n",
       "      <th>Gender Rank</th>\n",
       "      <th>Overall Rank</th>\n",
       "      <th>T1</th>\n",
       "      <th>T2</th>\n",
       "    </tr>\n",
       "  </thead>\n",
       "  <tbody>\n",
       "    <tr>\n",
       "      <th>0</th>\n",
       "      <td>4</td>\n",
       "      <td>Frodeno, Jan</td>\n",
       "      <td>DEU</td>\n",
       "      <td>Male</td>\n",
       "      <td>MPRO</td>\n",
       "      <td>00:47:31</td>\n",
       "      <td>04:16:02</td>\n",
       "      <td>02:42:43</td>\n",
       "      <td>07:51:13</td>\n",
       "      <td>1</td>\n",
       "      <td>1</td>\n",
       "      <td>1</td>\n",
       "      <td>00:01:58</td>\n",
       "      <td>00:02:59</td>\n",
       "    </tr>\n",
       "    <tr>\n",
       "      <th>1</th>\n",
       "      <td>6</td>\n",
       "      <td>O'donnell, Tim</td>\n",
       "      <td>USA</td>\n",
       "      <td>Male</td>\n",
       "      <td>MPRO</td>\n",
       "      <td>00:47:38</td>\n",
       "      <td>04:18:11</td>\n",
       "      <td>02:49:45</td>\n",
       "      <td>07:59:41</td>\n",
       "      <td>2</td>\n",
       "      <td>2</td>\n",
       "      <td>2</td>\n",
       "      <td>00:02:01</td>\n",
       "      <td>00:02:06</td>\n",
       "    </tr>\n",
       "    <tr>\n",
       "      <th>2</th>\n",
       "      <td>5</td>\n",
       "      <td>Kienle, Sebastian</td>\n",
       "      <td>DEU</td>\n",
       "      <td>Male</td>\n",
       "      <td>MPRO</td>\n",
       "      <td>00:52:17</td>\n",
       "      <td>04:15:04</td>\n",
       "      <td>02:49:56</td>\n",
       "      <td>08:02:04</td>\n",
       "      <td>3</td>\n",
       "      <td>3</td>\n",
       "      <td>3</td>\n",
       "      <td>00:02:12</td>\n",
       "      <td>00:02:35</td>\n",
       "    </tr>\n",
       "    <tr>\n",
       "      <th>3</th>\n",
       "      <td>14</td>\n",
       "      <td>Hoffman, Ben</td>\n",
       "      <td>USA</td>\n",
       "      <td>Male</td>\n",
       "      <td>MPRO</td>\n",
       "      <td>00:51:01</td>\n",
       "      <td>04:24:01</td>\n",
       "      <td>02:43:08</td>\n",
       "      <td>08:02:52</td>\n",
       "      <td>4</td>\n",
       "      <td>4</td>\n",
       "      <td>4</td>\n",
       "      <td>00:02:25</td>\n",
       "      <td>00:02:17</td>\n",
       "    </tr>\n",
       "    <tr>\n",
       "      <th>4</th>\n",
       "      <td>11</td>\n",
       "      <td>Wurf, Cameron</td>\n",
       "      <td>AUS</td>\n",
       "      <td>Male</td>\n",
       "      <td>MPRO</td>\n",
       "      <td>00:52:25</td>\n",
       "      <td>04:14:44</td>\n",
       "      <td>02:55:03</td>\n",
       "      <td>08:06:41</td>\n",
       "      <td>5</td>\n",
       "      <td>5</td>\n",
       "      <td>5</td>\n",
       "      <td>00:02:07</td>\n",
       "      <td>00:02:22</td>\n",
       "    </tr>\n",
       "  </tbody>\n",
       "</table>\n",
       "</div>"
      ],
      "text/plain": [
       "   BIB               Name Country Gender Division      Swim      Bike  \\\n",
       "0    4       Frodeno, Jan     DEU   Male     MPRO  00:47:31  04:16:02   \n",
       "1    6     O'donnell, Tim     USA   Male     MPRO  00:47:38  04:18:11   \n",
       "2    5  Kienle, Sebastian     DEU   Male     MPRO  00:52:17  04:15:04   \n",
       "3   14       Hoffman, Ben     USA   Male     MPRO  00:51:01  04:24:01   \n",
       "4   11      Wurf, Cameron     AUS   Male     MPRO  00:52:25  04:14:44   \n",
       "\n",
       "        Run   Overall Division Rank Gender Rank Overall Rank        T1  \\\n",
       "0  02:42:43  07:51:13             1           1            1  00:01:58   \n",
       "1  02:49:45  07:59:41             2           2            2  00:02:01   \n",
       "2  02:49:56  08:02:04             3           3            3  00:02:12   \n",
       "3  02:43:08  08:02:52             4           4            4  00:02:25   \n",
       "4  02:55:03  08:06:41             5           5            5  00:02:07   \n",
       "\n",
       "         T2  \n",
       "0  00:02:59  \n",
       "1  00:02:06  \n",
       "2  00:02:35  \n",
       "3  00:02:17  \n",
       "4  00:02:22  "
      ]
     },
     "execution_count": 2,
     "metadata": {},
     "output_type": "execute_result"
    }
   ],
   "source": [
    "data = pd.read_csv('results.csv')\n",
    "data.head()"
   ]
  },
  {
   "cell_type": "code",
   "execution_count": 4,
   "metadata": {},
   "outputs": [
    {
     "data": {
      "text/plain": [
       "(2434, 14)"
      ]
     },
     "execution_count": 4,
     "metadata": {},
     "output_type": "execute_result"
    }
   ],
   "source": [
    "data.shape"
   ]
  },
  {
   "cell_type": "code",
   "execution_count": 5,
   "metadata": {},
   "outputs": [],
   "source": [
    "import matplotlib.pyplot as plt"
   ]
  },
  {
   "cell_type": "code",
   "execution_count": 7,
   "metadata": {},
   "outputs": [
    {
     "data": {
      "image/png": "[encoded data removed]",
      "text/plain": [
       "<Figure size 432x288 with 4 Axes>"
      ]
     },
     "metadata": {
      "needs_background": "light"
     },
     "output_type": "display_data"
    }
   ],
   "source": [
    "data.plot(kind='box', subplots=True, layout=(2,2), sharex=False, sharey=False)\n",
    "plt.show()"
   ]
  },
  {
   "cell_type": "code",
   "execution_count": null,
   "metadata": {},
   "outputs": [],
   "source": []
  }
 ],
 "metadata": {
  "kernelspec": {
   "display_name": "Python 3",
   "language": "python",
   "name": "python3"
  },
  "language_info": {
   "codemirror_mode": {
    "name": "ipython",
    "version": 3
   },
   "file_extension": ".py",
   "mimetype": "text/x-python",
   "name": "python",
   "nbconvert_exporter": "python",
   "pygments_lexer": "ipython3",
   "version": "3.8.3"
  }
 },
 "nbformat": 4,
 "nbformat_minor": 4
}
